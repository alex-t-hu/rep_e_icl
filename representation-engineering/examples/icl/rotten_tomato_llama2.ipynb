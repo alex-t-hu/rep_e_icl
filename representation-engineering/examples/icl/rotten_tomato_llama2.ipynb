{
 "cells": [
  {
   "cell_type": "code",
   "execution_count": 1,
   "id": "2ade03fe",
   "metadata": {},
   "outputs": [
    {
     "name": "stdout",
     "output_type": "stream",
     "text": [
      "/home/gridsan/cguo/rep_e_icl\n"
     ]
    }
   ],
   "source": [
    "cd ../../../"
   ]
  },
  {
   "cell_type": "code",
   "execution_count": 5,
   "id": "aae2b5a9",
   "metadata": {},
   "outputs": [
    {
     "name": "stdout",
     "output_type": "stream",
     "text": [
      "Obtaining file:///home/gridsan/cguo/rep_e_icl/representation-engineering\n",
      "  Preparing metadata (setup.py) ... \u001b[?25ldone\n",
      "\u001b[?25hRequirement already satisfied: transformers in /home/gridsan/cguo/rep_e_icl/stats/lib/python3.9/site-packages (from repe==0.1) (4.31.0)\n",
      "Collecting accelerate\n",
      "  Using cached accelerate-0.25.0-py3-none-any.whl (265 kB)\n",
      "Requirement already satisfied: psutil in /home/gridsan/cguo/rep_e_icl/stats/lib/python3.9/site-packages (from accelerate->repe==0.1) (5.9.5)\n",
      "Requirement already satisfied: huggingface-hub in /home/gridsan/cguo/rep_e_icl/stats/lib/python3.9/site-packages (from accelerate->repe==0.1) (0.16.4)\n",
      "Requirement already satisfied: torch>=1.10.0 in /home/gridsan/cguo/rep_e_icl/stats/lib/python3.9/site-packages (from accelerate->repe==0.1) (2.0.1)\n",
      "Requirement already satisfied: numpy>=1.17 in /home/gridsan/cguo/rep_e_icl/stats/lib/python3.9/site-packages (from accelerate->repe==0.1) (1.24.4)\n",
      "Requirement already satisfied: pyyaml in /home/gridsan/cguo/rep_e_icl/stats/lib/python3.9/site-packages (from accelerate->repe==0.1) (6.0.1)\n",
      "Requirement already satisfied: packaging>=20.0 in /home/gridsan/cguo/rep_e_icl/stats/lib/python3.9/site-packages (from accelerate->repe==0.1) (23.1)\n",
      "Requirement already satisfied: safetensors>=0.3.1 in /home/gridsan/cguo/rep_e_icl/stats/lib/python3.9/site-packages (from accelerate->repe==0.1) (0.3.1)\n",
      "Requirement already satisfied: tqdm>=4.27 in /home/gridsan/cguo/rep_e_icl/stats/lib/python3.9/site-packages (from transformers->repe==0.1) (4.65.0)\n",
      "Requirement already satisfied: tokenizers!=0.11.3,<0.14,>=0.11.1 in /home/gridsan/cguo/rep_e_icl/stats/lib/python3.9/site-packages (from transformers->repe==0.1) (0.13.3)\n",
      "Requirement already satisfied: filelock in /home/gridsan/cguo/rep_e_icl/stats/lib/python3.9/site-packages (from transformers->repe==0.1) (3.12.2)\n",
      "Requirement already satisfied: regex!=2019.12.17 in /home/gridsan/cguo/rep_e_icl/stats/lib/python3.9/site-packages (from transformers->repe==0.1) (2023.6.3)\n",
      "Requirement already satisfied: requests in /home/gridsan/cguo/rep_e_icl/stats/lib/python3.9/site-packages (from transformers->repe==0.1) (2.31.0)\n",
      "Requirement already satisfied: fsspec in /home/gridsan/cguo/rep_e_icl/stats/lib/python3.9/site-packages (from huggingface-hub->accelerate->repe==0.1) (2023.6.0)\n",
      "Requirement already satisfied: typing-extensions>=3.7.4.3 in /home/gridsan/cguo/rep_e_icl/stats/lib/python3.9/site-packages (from huggingface-hub->accelerate->repe==0.1) (4.7.1)\n",
      "Requirement already satisfied: nvidia-cuda-cupti-cu11==11.7.101 in /home/gridsan/cguo/rep_e_icl/stats/lib/python3.9/site-packages (from torch>=1.10.0->accelerate->repe==0.1) (11.7.101)\n",
      "Requirement already satisfied: sympy in /home/gridsan/cguo/rep_e_icl/stats/lib/python3.9/site-packages (from torch>=1.10.0->accelerate->repe==0.1) (1.12)\n",
      "Requirement already satisfied: nvidia-cuda-runtime-cu11==11.7.99 in /home/gridsan/cguo/rep_e_icl/stats/lib/python3.9/site-packages (from torch>=1.10.0->accelerate->repe==0.1) (11.7.99)\n",
      "Requirement already satisfied: nvidia-curand-cu11==10.2.10.91 in /home/gridsan/cguo/rep_e_icl/stats/lib/python3.9/site-packages (from torch>=1.10.0->accelerate->repe==0.1) (10.2.10.91)\n",
      "Requirement already satisfied: jinja2 in /home/gridsan/cguo/rep_e_icl/stats/lib/python3.9/site-packages (from torch>=1.10.0->accelerate->repe==0.1) (3.1.2)\n",
      "Requirement already satisfied: nvidia-nvtx-cu11==11.7.91 in /home/gridsan/cguo/rep_e_icl/stats/lib/python3.9/site-packages (from torch>=1.10.0->accelerate->repe==0.1) (11.7.91)\n",
      "Requirement already satisfied: nvidia-cudnn-cu11==8.5.0.96 in /home/gridsan/cguo/rep_e_icl/stats/lib/python3.9/site-packages (from torch>=1.10.0->accelerate->repe==0.1) (8.5.0.96)\n",
      "Requirement already satisfied: triton==2.0.0 in /home/gridsan/cguo/rep_e_icl/stats/lib/python3.9/site-packages (from torch>=1.10.0->accelerate->repe==0.1) (2.0.0)\n",
      "Requirement already satisfied: nvidia-cusolver-cu11==11.4.0.1 in /home/gridsan/cguo/rep_e_icl/stats/lib/python3.9/site-packages (from torch>=1.10.0->accelerate->repe==0.1) (11.4.0.1)\n",
      "Requirement already satisfied: nvidia-cublas-cu11==11.10.3.66 in /home/gridsan/cguo/rep_e_icl/stats/lib/python3.9/site-packages (from torch>=1.10.0->accelerate->repe==0.1) (11.10.3.66)\n",
      "Requirement already satisfied: nvidia-cufft-cu11==10.9.0.58 in /home/gridsan/cguo/rep_e_icl/stats/lib/python3.9/site-packages (from torch>=1.10.0->accelerate->repe==0.1) (10.9.0.58)\n",
      "Requirement already satisfied: nvidia-cusparse-cu11==11.7.4.91 in /home/gridsan/cguo/rep_e_icl/stats/lib/python3.9/site-packages (from torch>=1.10.0->accelerate->repe==0.1) (11.7.4.91)\n",
      "Requirement already satisfied: nvidia-cuda-nvrtc-cu11==11.7.99 in /home/gridsan/cguo/rep_e_icl/stats/lib/python3.9/site-packages (from torch>=1.10.0->accelerate->repe==0.1) (11.7.99)\n",
      "Requirement already satisfied: networkx in /home/gridsan/cguo/rep_e_icl/stats/lib/python3.9/site-packages (from torch>=1.10.0->accelerate->repe==0.1) (3.1)\n",
      "Requirement already satisfied: nvidia-nccl-cu11==2.14.3 in /home/gridsan/cguo/rep_e_icl/stats/lib/python3.9/site-packages (from torch>=1.10.0->accelerate->repe==0.1) (2.14.3)\n",
      "Requirement already satisfied: wheel in /home/gridsan/cguo/rep_e_icl/stats/lib/python3.9/site-packages (from nvidia-cublas-cu11==11.10.3.66->torch>=1.10.0->accelerate->repe==0.1) (0.41.0)\n",
      "Requirement already satisfied: setuptools in /home/gridsan/cguo/rep_e_icl/stats/lib/python3.9/site-packages (from nvidia-cublas-cu11==11.10.3.66->torch>=1.10.0->accelerate->repe==0.1) (58.1.0)\n",
      "Requirement already satisfied: lit in /home/gridsan/cguo/rep_e_icl/stats/lib/python3.9/site-packages (from triton==2.0.0->torch>=1.10.0->accelerate->repe==0.1) (16.0.6)\n",
      "Requirement already satisfied: cmake in /home/gridsan/cguo/rep_e_icl/stats/lib/python3.9/site-packages (from triton==2.0.0->torch>=1.10.0->accelerate->repe==0.1) (3.27.0)\n",
      "Requirement already satisfied: idna<4,>=2.5 in /home/gridsan/cguo/rep_e_icl/stats/lib/python3.9/site-packages (from requests->transformers->repe==0.1) (3.4)\n",
      "Requirement already satisfied: urllib3<3,>=1.21.1 in /home/gridsan/cguo/rep_e_icl/stats/lib/python3.9/site-packages (from requests->transformers->repe==0.1) (2.0.4)\n",
      "Requirement already satisfied: charset-normalizer<4,>=2 in /home/gridsan/cguo/rep_e_icl/stats/lib/python3.9/site-packages (from requests->transformers->repe==0.1) (3.2.0)\n",
      "Requirement already satisfied: certifi>=2017.4.17 in /home/gridsan/cguo/rep_e_icl/stats/lib/python3.9/site-packages (from requests->transformers->repe==0.1) (2023.7.22)\n",
      "Requirement already satisfied: MarkupSafe>=2.0 in /home/gridsan/cguo/rep_e_icl/stats/lib/python3.9/site-packages (from jinja2->torch>=1.10.0->accelerate->repe==0.1) (2.1.3)\n",
      "Requirement already satisfied: mpmath>=0.19 in /home/gridsan/cguo/rep_e_icl/stats/lib/python3.9/site-packages (from sympy->torch>=1.10.0->accelerate->repe==0.1) (1.3.0)\n",
      "Installing collected packages: accelerate, repe\n",
      "  Running setup.py develop for repe\n",
      "Successfully installed accelerate-0.25.0 repe-0.1\n",
      "\u001b[33mWARNING: You are using pip version 22.0.4; however, version 23.3.1 is available.\n",
      "You should consider upgrading via the '/home/gridsan/cguo/rep_e_icl/stats/bin/python -m pip install --upgrade pip' command.\u001b[0m\u001b[33m\n",
      "\u001b[0mNote: you may need to restart the kernel to use updated packages.\n"
     ]
    }
   ],
   "source": [
    "pip install -e ."
   ]
  },
  {
   "cell_type": "code",
   "execution_count": 2,
   "id": "c9863aae-afda-4686-9dc2-06177ab7fb37",
   "metadata": {},
   "outputs": [],
   "source": [
    "%load_ext autoreload\n",
    "%autoreload 2"
   ]
  },
  {
   "cell_type": "code",
   "execution_count": 3,
   "id": "939fc8a0-5ab4-46ee-b8aa-ae5d08de4c08",
   "metadata": {},
   "outputs": [],
   "source": [
    "from transformers import AutoTokenizer, pipeline, AutoModelForCausalLM\n",
    "import matplotlib.pyplot as plt\n",
    "import torch\n",
    "from tqdm import tqdm\n",
    "import numpy as np\n",
    "\n",
    "from repe import repe_pipeline_registry\n",
    "repe_pipeline_registry()\n",
    "\n",
    "from utils import plot_lat_scans, plot_detection_results, load_dataset"
   ]
  },
  {
   "cell_type": "code",
   "execution_count": 1,
   "id": "c447b410",
   "metadata": {},
   "outputs": [],
   "source": [
    "import os\n",
    "os.environ[\"TRANSFORMERS_OFFLINE\"] =\"1\"\n",
    "os.environ[\"TRANSFORMERS_CACHE\"] = \"/home/gridsan/groups/maia_mechint/models\""
   ]
  },
  {
   "cell_type": "code",
   "execution_count": 3,
   "id": "fdb2cda3",
   "metadata": {},
   "outputs": [
    {
     "data": {
      "text/plain": [
       "'/home/gridsan/groups/maia_mechint/models'"
      ]
     },
     "execution_count": 3,
     "metadata": {},
     "output_type": "execute_result"
    }
   ],
   "source": [
    "os.environ[\"TRANSFORMERS_CACHE\"]"
   ]
  },
  {
   "cell_type": "code",
   "execution_count": 4,
   "id": "8b908a11-a597-44da-8a44-933d3450f002",
   "metadata": {},
   "outputs": [
    {
     "data": {
      "application/vnd.jupyter.widget-view+json": {
       "model_id": "086c9f112f41486d919bd33c362c4e8d",
       "version_major": 2,
       "version_minor": 0
      },
      "text/plain": [
       "Loading checkpoint shards:   0%|          | 0/2 [00:00<?, ?it/s]"
      ]
     },
     "metadata": {},
     "output_type": "display_data"
    }
   ],
   "source": [
    "model_name_or_path = \"meta-llama/Llama-2-7b-hf\"\n",
    "\n",
    "model = AutoModelForCausalLM.from_pretrained(model_name_or_path, torch_dtype=torch.float16, device_map=\"auto\")\n",
    "use_fast_tokenizer = \"LlamaForCausalLM\" not in model.config.architectures\n",
    "tokenizer = AutoTokenizer.from_pretrained(model_name_or_path, use_fast=use_fast_tokenizer, padding_side=\"left\", legacy=False)\n",
    "tokenizer.pad_token_id = 0 "
   ]
  },
  {
   "cell_type": "code",
   "execution_count": 5,
   "id": "76bfb91b-9e27-479b-92a0-ad83ea98d684",
   "metadata": {},
   "outputs": [],
   "source": [
    "rep_token = -1\n",
    "hidden_layers = list(range(-1, -model.config.num_hidden_layers, -1))\n",
    "n_difference = 1\n",
    "direction_method = 'pca'\n",
    "rep_reading_pipeline =  pipeline(\"rep-reading\", model=model, tokenizer=tokenizer)"
   ]
  },
  {
   "cell_type": "code",
   "execution_count": 6,
   "id": "b6a57d18-f334-46ba-b345-075bf64a35bb",
   "metadata": {},
   "outputs": [
    {
     "name": "stdout",
     "output_type": "stream",
     "text": [
      "Train data: 512\n",
      "Test data: 512\n"
     ]
    }
   ],
   "source": [
    "user_tag = \"[INST]\"\n",
    "assistant_tag = \"[/INST]\"\n",
    "\n",
    "\n",
    "positive_prompts = [\n",
    "    \"Pay attention to the following examples\", \n",
    "    \"Find the pattern in the following text\",\n",
    "    \"Analyze the following text\", \n",
    "    \"Look at the following sequence\", \n",
    "    \"Predict the sentiments of the following reviews\",]\n",
    "\n",
    "negative_prompts = [\n",
    "    \"Do not pay attention to the following examples\",\n",
    "    \"Disregard any patterns in the following text\",\n",
    "    \"Do not analyze the following text\", \n",
    "    \"\",\n",
    "    \"Predict the number of dogs in the following images\"\n",
    "]\n",
    "\n",
    "positive_prompt = \"Pay attention to the following examples\"\n",
    "negative_prompt = \"Do not pay attention to the following examples\"\n",
    "data_path =  \"../../../data/rotten_tomatoes/rotten_tomatoes_16384_100_train.jsonl\"\n",
    "\n",
    "dataset = load_dataset(data_path, tokenizer, positive_prompt, negative_prompt, user_tag, assistant_tag)"
   ]
  },
  {
   "cell_type": "code",
   "execution_count": 14,
   "id": "5d5c617c",
   "metadata": {},
   "outputs": [
    {
     "data": {
      "text/plain": [
       "\"[INST] Do not pay attention to the following examples [/INST] as plain and pedestrian as catsup--\\nnegative\\nit's the brilliant surfing photography bringing you right inside the massive waves that lifts blue crush into one of the summer's most pleasurable movies .\\npositive\\n\""
      ]
     },
     "execution_count": 14,
     "metadata": {},
     "output_type": "execute_result"
    }
   ],
   "source": [
    "dataset['train']['data'][1]"
   ]
  },
  {
   "cell_type": "code",
   "execution_count": null,
   "id": "414ffbb0",
   "metadata": {},
   "outputs": [],
   "source": [
    "dataset['train']['label'][1]"
   ]
  },
  {
   "cell_type": "code",
   "execution_count": 8,
   "id": "f1b1555b-ee00-42f1-8cf4-39a77368809f",
   "metadata": {},
   "outputs": [
    {
     "name": "stdout",
     "output_type": "stream",
     "text": [
      "[[-0.12252808 -1.4155273   0.00976562 ...  0.2631836  -0.1171875\n",
      "   0.62402344]\n",
      " [-0.48266602  0.0859375  -0.06689453 ... -0.43164062  0.2890625\n",
      "   0.98657227]\n",
      " [ 0.58099365  1.2397461  -0.54489136 ... -0.26660156  0.83984375\n",
      "   0.6508789 ]\n",
      " ...\n",
      " [ 0.25732422  0.16809082 -0.38964844 ...  0.23535156  0.41210938\n",
      "  -0.64404297]\n",
      " [ 0.85202026 -0.04614258  0.8095703  ... -0.45544434  0.18164062\n",
      "   0.69970703]\n",
      " [-0.43920898 -1.2407227   1.2164307  ... -0.25        1.2636719\n",
      "  -0.76000977]]\n",
      "[[ 0.00488281 -1.999939    0.43066406 ...  0.7529297  -0.5703125\n",
      "   0.8829346 ]\n",
      " [-0.7861328   0.44873047  0.46484375 ... -0.9543762   0.1875\n",
      "   1.625     ]\n",
      " [ 0.43554688  1.4095459  -0.7648926  ... -0.37304688  0.9296875\n",
      "   0.82299805]\n",
      " ...\n",
      " [-0.078125   -1.015625   -1.0059814  ...  0.10839844  0.9970703\n",
      "   0.015625  ]\n",
      " [ 1.4414062   1.8012695   1.1357422  ... -1.4621582  -0.81103516\n",
      "   1.2109375 ]\n",
      " [-1.5283203  -2.6535645   0.4765625  ... -1.6357422   1.5368652\n",
      "  -1.9372559 ]]\n",
      "[[-0.3486328  -1.9283447   1.0996094  ...  1.3886719  -0.5078125\n",
      "   0.80908203]\n",
      " [-0.43164062  0.49609375  0.4873047  ... -0.81762695 -0.48632812\n",
      "   1.3652344 ]\n",
      " [-0.25976562  1.6965332  -1.2475586  ... -0.3022461   0.86328125\n",
      "   2.0419922 ]\n",
      " ...\n",
      " [ 0.22070312 -0.78393555 -0.8602295  ...  0.17773438  0.51464844\n",
      "   0.96875   ]\n",
      " [ 1.1191406   1.902832    1.0751953  ... -1.5766602  -1.0440674\n",
      "   0.24560547]\n",
      " [-2.0898438  -2.2631836   0.53027344 ... -1.6923828   0.53100586\n",
      "  -1.9482422 ]]\n",
      "[[-0.5913086  -1.350708    1.2265625  ...  1.9541016   0.15722656\n",
      "   1.0627441 ]\n",
      " [-0.2421875   0.04394531  0.3486328  ... -1.0131836  -0.642334\n",
      "   0.93847656]\n",
      " [-0.10351562  1.1247864  -1.1318359  ... -0.8642578   0.76660156\n",
      "   1.8964844 ]\n",
      " ...\n",
      " [-0.17675781 -0.51904297 -0.3955078  ...  0.16113281  0.06933594\n",
      "   1.3186035 ]\n",
      " [ 0.9111328   2.2121582   1.3161621  ... -1.2070312  -0.94104004\n",
      "  -0.19238281]\n",
      " [-2.2128906  -1.5849609  -0.35717773 ... -1.3354492   0.43652344\n",
      "  -1.2490234 ]]\n",
      "[[-0.7468262  -1.4580078   0.44641113 ...  2.4935608  -0.04296875\n",
      "   1.0288086 ]\n",
      " [-0.3388672   0.13476562  0.3996582  ... -0.55514526 -0.911499\n",
      "   0.9404297 ]\n",
      " [-0.03808594  1.2053223  -1.1311035  ... -0.37304688  0.9055176\n",
      "   1.7265625 ]\n",
      " ...\n",
      " [-0.17578125  0.16357422 -0.00732422 ...  0.02929688 -0.17578125\n",
      "   1.0649414 ]\n",
      " [ 0.76464844  2.1430664   0.84155273 ... -0.9707031  -1.0952148\n",
      "   0.22558594]\n",
      " [-1.6416016  -1.0849609  -0.17102051 ... -1.5058594   0.38397217\n",
      "  -1.7612305 ]]\n",
      "[[-0.70581055 -1.4150391   0.5        ...  2.2080078  -0.06835938\n",
      "   1.0440674 ]\n",
      " [ 0.          0.24902344  0.16894531 ... -0.28405762 -1.0249023\n",
      "   0.671875  ]\n",
      " [-0.10644531  0.90527344 -0.8886719  ... -0.41552734  1.0957031\n",
      "   1.2954102 ]\n",
      " ...\n",
      " [-0.10253906  0.29711914 -0.29785156 ... -0.078125    0.09179688\n",
      "   0.8236084 ]\n",
      " [ 0.7158203   1.9985352   0.8857422  ... -0.83325195 -1.173584\n",
      "   0.35009766]\n",
      " [-1.3642578  -1.1616211  -0.02246094 ... -1.3891602   0.58740234\n",
      "  -1.4998169 ]]\n",
      "[[-0.70495605 -0.7988281   0.5493164  ...  1.9863281  -0.09619141\n",
      "   0.47558594]\n",
      " [ 0.00878906  0.68359375  0.18725586 ...  0.09667969 -0.39343262\n",
      "   0.6152344 ]\n",
      " [ 0.11328125  0.58251953 -0.2548828  ... -0.01660156  0.76989746\n",
      "   0.95751953]\n",
      " ...\n",
      " [-0.11914062  0.08325195 -0.09326172 ... -0.04980469 -0.02233887\n",
      "   0.9095459 ]\n",
      " [ 0.35058594  1.8059082   0.8444824  ... -0.46313477 -0.8876953\n",
      "   0.47070312]\n",
      " [-1.3774414  -1.2558594  -0.10400391 ... -1.1875      0.56225586\n",
      "  -1.4675903 ]]\n",
      "[[-0.69473267 -0.75756836  0.31445312 ...  1.8579102  -0.14648438\n",
      "  -0.04138184]\n",
      " [ 0.12060547  0.37695312  0.18798828 ...  0.42578125 -0.09875488\n",
      "   0.8286133 ]\n",
      " [ 0.15527344  0.5317383  -0.640625   ... -0.1772461   0.76138306\n",
      "   0.6213379 ]\n",
      " ...\n",
      " [ 0.11523438  0.25402832 -0.2241211  ... -0.03613281 -0.52319336\n",
      "   1.0378418 ]\n",
      " [ 0.38867188  1.6066895   0.20947266 ... -0.30786133 -0.74157715\n",
      "   0.17578125]\n",
      " [-1.3413086  -1.1923828   0.08056641 ... -1.1516113   0.87402344\n",
      "  -1.5581055 ]]\n",
      "[[-0.85632324 -0.2541504  -0.23095703 ...  2.133789   -0.42407227\n",
      "  -0.0524292 ]\n",
      " [ 0.20751953  0.6123047  -0.0324707  ...  0.34521484 -0.15234375\n",
      "   1.1206055 ]\n",
      " [ 0.16796875  0.6921387  -0.09521484 ... -0.6278076   0.92736816\n",
      "   0.7927246 ]\n",
      " ...\n",
      " [-0.00585938  0.35961914  0.08984375 ...  0.33740234 -0.38085938\n",
      "   0.69873047]\n",
      " [ 0.08886719  1.9282227   0.22802734 ... -0.66937256 -0.27319336\n",
      "  -0.20996094]\n",
      " [-1.4023438  -0.7949219   0.05541992 ... -1.0400391   0.9544678\n",
      "  -1.5961914 ]]\n",
      "[[-0.81466675 -0.43640137 -0.37597656 ...  1.6035156  -0.55126953\n",
      "  -0.20898438]\n",
      " [ 0.11474609  0.35986328  0.08056641 ...  0.41992188 -0.2475586\n",
      "   1.1660156 ]\n",
      " [ 0.1484375   0.6583252  -0.1875     ... -0.25787354  0.7145386\n",
      "   0.8125    ]\n",
      " ...\n",
      " [ 0.2529297   0.3734131   0.14550781 ...  0.34057617 -0.7416992\n",
      "   0.87597656]\n",
      " [ 0.11425781  1.6865234   0.39672852 ... -0.6134033   0.17749023\n",
      "  -0.1875    ]\n",
      " [-1.5068359  -0.91308594  0.08374023 ... -1.0466309   1.0413818\n",
      "  -1.2895813 ]]\n",
      "[[-0.42260742 -0.23181152 -0.3647461  ...  1.1477051  -0.43481445\n",
      "  -0.14379883]\n",
      " [ 0.11035156  0.61083984 -0.0168457  ...  0.6029053  -0.11499023\n",
      "   1.0727539 ]\n",
      " [-0.06054688  0.39233398  0.20166016 ... -0.46429443  1.0672607\n",
      "   0.20707703]\n",
      " ...\n",
      " [ 0.18017578  0.07470703  0.20166016 ...  0.3305664  -0.736084\n",
      "   0.5686035 ]\n",
      " [-0.4038086   1.4331055   0.57714844 ... -0.53430176  0.34179688\n",
      "   0.13183594]\n",
      " [-1.5717773  -1.0880432   0.21362305 ... -0.7877197   0.7492676\n",
      "  -1.1357422 ]]\n",
      "[[-0.49902344 -0.3388672  -0.23608398 ...  1.0354004  -0.6411133\n",
      "  -0.34692383]\n",
      " [ 0.31347656  0.75        0.21875    ...  0.3684082  -0.29760742\n",
      "   1.0244141 ]\n",
      " [ 0.00390625  0.32470703 -0.32910156 ... -0.24365234  1.0742188\n",
      "   0.3343506 ]\n",
      " ...\n",
      " [ 0.08789062  0.06604004 -0.06420898 ...  0.5629883  -0.6508789\n",
      "   0.5095215 ]\n",
      " [-0.30419922  0.93359375  0.23876953 ... -0.84765625  0.29870605\n",
      "   0.54589844]\n",
      " [-1.3129883  -1.2407837   0.0383606  ... -0.57543945  0.79248047\n",
      "  -0.7072754 ]]\n",
      "[[-0.5299072  -0.01464844 -0.03466797 ...  1.0308838  -0.48510742\n",
      "  -0.33325195]\n",
      " [ 0.54052734  0.83984375 -0.3503418  ...  0.47601318  0.04418945\n",
      "   0.6669922 ]\n",
      " [ 0.2680664   0.05175781 -0.2553711  ... -0.06152344  1.0019531\n",
      "   0.08203125]\n",
      " ...\n",
      " [ 0.3984375  -0.22381592 -0.17504883 ...  0.37109375 -0.76708984\n",
      "   0.42529297]\n",
      " [-0.25830078  1.1459961   0.2835083  ... -0.6036377   0.611084\n",
      "   0.24511719]\n",
      " [-1.3164062  -1.057251    0.09020996 ... -0.5703125   0.6164551\n",
      "  -0.47021484]]\n",
      "[[-0.234375    0.10266113 -0.06347656 ...  0.8535156  -0.20703125\n",
      "  -0.22924805]\n",
      " [ 0.5046387   0.4584961  -0.34014893 ...  0.5855713   0.01000977\n",
      "   0.5253906 ]\n",
      " [ 0.45629883  0.28131104 -0.3314209  ... -0.01269531  0.72314453\n",
      "   0.2901001 ]\n",
      " ...\n",
      " [ 0.28222656 -0.20214844 -0.2783203  ... -0.15185547 -0.654541\n",
      "   0.20483398]\n",
      " [-0.04736328  0.7536621   0.00292969 ... -0.7236328   0.34350586\n",
      "   0.04638672]\n",
      " [-1.244873   -0.5444336   0.2609253  ... -0.37548828  0.41601562\n",
      "  -0.39648438]]\n",
      "[[-0.1850586  -0.15539551 -0.02539062 ...  0.91552734 -0.2265625\n",
      "  -0.26904297]\n",
      " [ 0.37365723  0.17626953 -0.51623535 ...  0.8305664   0.11535645\n",
      "   0.27246094]\n",
      " [ 0.23046875  0.31103516 -0.52282715 ... -0.06469727  0.65771484\n",
      "   0.46240234]\n",
      " ...\n",
      " [ 0.2890625  -0.06115723  0.05664062 ... -0.18554688 -0.4227295\n",
      "   0.2241211 ]\n",
      " [ 0.0144043   0.49645996 -0.04345703 ... -0.29785156  0.34680176\n",
      "   0.30566406]\n",
      " [-0.8404541  -0.38208008  0.12426758 ... -0.35888672  0.40792847\n",
      "  -0.26953125]]\n",
      "[[-0.17651367 -0.1274414   0.03955078 ...  0.72216797 -0.19921875\n",
      "  -0.44189453]\n",
      " [ 0.5079346   0.10107422 -0.6533203  ...  0.6591797  -0.03295898\n",
      "   0.2310791 ]\n",
      " [ 0.28674316  0.38293457 -0.6027832  ...  0.08886719  0.45318604\n",
      "   0.47851562]\n",
      " ...\n",
      " [ 0.26464844  0.02697754  0.40856934 ... -0.0390625  -0.57629395\n",
      "   0.19909668]\n",
      " [-0.01416016  0.29833984 -0.03710938 ... -0.30603027  0.42886353\n",
      "   0.02807617]\n",
      " [-0.59399414 -0.43139648 -0.07666016 ... -0.36376953  0.3076172\n",
      "   0.13085938]]\n",
      "[[-0.24487305 -0.15307617 -0.06918335 ...  0.6166992   0.13146973\n",
      "  -0.0847168 ]\n",
      " [ 0.3791504  -0.16992188 -0.46264648 ...  0.41027832 -0.03918457\n",
      "   0.40429688]\n",
      " [ 0.1394043   0.0612793  -0.3363037  ... -0.02294922 -0.0133667\n",
      "   0.62646484]\n",
      " ...\n",
      " [ 0.10986328  0.20947266  0.20166016 ...  0.08349609 -0.49884033\n",
      "   0.15985107]\n",
      " [ 0.02539062  0.13964844  0.09423828 ... -0.4630127   0.1586914\n",
      "   0.4506836 ]\n",
      " [-0.5488281  -0.47631836 -0.13769531 ... -0.45751953  0.00683594\n",
      "   0.1583252 ]]\n",
      "[[-0.37780762  0.11645508 -0.19665527 ...  0.63916016  0.3984375\n",
      "  -0.36743164]\n",
      " [ 0.3519287   0.00097656 -0.4058838  ...  0.03268433 -0.20483398\n",
      "   0.4934082 ]\n",
      " [ 0.31054688 -0.26678467 -0.39770508 ...  0.13061523 -0.09008789\n",
      "   0.39379883]\n",
      " ...\n",
      " [ 0.05859375  0.10571289  0.1105957  ...  0.11181641 -0.3647461\n",
      "   0.12414551]\n",
      " [-0.40039062  0.10400391  0.1850586  ... -0.3762207   0.06640625\n",
      "   0.54174805]\n",
      " [-0.33984375 -0.15722656  0.01745605 ... -0.36767578  0.17456055\n",
      "   0.0859375 ]]\n",
      "[[-0.2930298   0.24389648 -0.16870117 ...  0.670166    0.21728516\n",
      "  -0.40307617]\n",
      " [ 0.2763672  -0.24023438 -0.6347656  ...  0.07843018 -0.07543945\n",
      "   0.01660156]\n",
      " [ 0.5175781  -0.30767822 -0.49719238 ...  0.00561523  0.02905273\n",
      "   0.04699707]\n",
      " ...\n",
      " [-0.16015625 -0.10327148  0.07177734 ... -0.02319336 -0.27246094\n",
      "   0.20703125]\n",
      " [-0.11987305  0.06494141  0.2401123  ... -0.11608887  0.39416504\n",
      "   0.45361328]\n",
      " [-0.42388916 -0.01953125  0.04882812 ... -0.07922363  0.5070801\n",
      "   0.28833008]]\n",
      "[[-0.12158203  0.44934082  0.05627441 ...  0.3322754   0.18603516\n",
      "  -0.4272461 ]\n",
      " [ 0.18261719 -0.51904297 -0.5551758  ...  0.1560669   0.07006836\n",
      "   0.08081055]\n",
      " [ 0.5456543  -0.33740234 -0.5559082  ... -0.06738281  0.1550293\n",
      "  -0.17852783]\n",
      " ...\n",
      " [-0.32458496 -0.16845703  0.05200195 ...  0.10742188 -0.2965088\n",
      "   0.3137207 ]\n",
      " [-0.18869019 -0.24682617  0.16375732 ...  0.17596436  0.29431152\n",
      "   0.5515137 ]\n",
      " [-0.17358398  0.05322266  0.16461182 ... -0.07116699  0.6258545\n",
      "   0.19921875]]\n",
      "[[-0.11669922  0.42053223  0.0949707  ...  0.30871582  0.07458496\n",
      "  -0.35534668]\n",
      " [-0.09576416 -0.0489502  -0.3499756  ...  0.05480957  0.10144043\n",
      "  -0.10864258]\n",
      " [ 0.43695068 -0.19921875 -0.39587402 ... -0.01403809 -0.0390625\n",
      "   0.05126953]\n",
      " ...\n",
      " [-0.47299194 -0.2722168  -0.05712891 ...  0.07141113 -0.10238647\n",
      "  -0.01013184]\n",
      " [ 0.02307129  0.00634766  0.02099609 ...  0.11236572  0.30474854\n",
      "   0.52453613]\n",
      " [-0.2515869  -0.10644531  0.05828857 ... -0.15057373  0.28259277\n",
      "   0.41088867]]\n",
      "[[ 0.00262451  0.24658203  0.04296875 ...  0.03216553  0.0169754\n",
      "  -0.19393158]\n",
      " [-0.27270508  0.14416504 -0.21569824 ... -0.10241699 -0.01098633\n",
      "  -0.19248962]\n",
      " [ 0.21170044 -0.17553711 -0.1229248  ...  0.13781738 -0.01708984\n",
      "   0.02490234]\n",
      " ...\n",
      " [-0.30130005 -0.22509766 -0.09777832 ...  0.07751465 -0.0612793\n",
      "   0.00756836]\n",
      " [ 0.05352783  0.33068848 -0.17819214 ...  0.00744629  0.21472168\n",
      "   0.20227051]\n",
      " [-0.13815308  0.20336914 -0.17028809 ... -0.20544434  0.2244873\n",
      "   0.21691895]]\n",
      "[[ 0.06329346  0.22888184 -0.02737427 ...  0.03771973 -0.09173584\n",
      "  -0.3392334 ]\n",
      " [-0.30456543  0.3413086  -0.07904053 ... -0.10388184  0.06793213\n",
      "  -0.08514404]\n",
      " [ 0.206604   -0.11480713  0.0135498  ... -0.09039307 -0.05981445\n",
      "   0.07836914]\n",
      " ...\n",
      " [-0.15032959  0.0267334  -0.03405762 ...  0.02770996  0.00439453\n",
      "   0.07070923]\n",
      " [-0.06500244  0.21142578 -0.0098877  ...  0.01916504  0.32141113\n",
      "   0.07043457]\n",
      " [-0.20776367  0.20727539 -0.2631836  ...  0.06164551  0.00964355\n",
      "   0.26574707]]\n",
      "[[-1.16363525e-01  2.76794434e-01 -7.27844238e-02 ...  9.11865234e-02\n",
      "  -7.34863281e-02 -7.88574219e-02]\n",
      " [-1.51290894e-01  1.34643555e-01  9.12780762e-02 ... -4.05883789e-02\n",
      "   1.20117188e-01  1.79138184e-02]\n",
      " [ 1.51763916e-01 -1.71752930e-01  2.69165039e-02 ... -1.12838745e-01\n",
      "  -7.37304688e-02 -3.16772461e-02]\n",
      " ...\n",
      " [-3.07006836e-02 -2.44140625e-04 -3.33862305e-02 ... -1.80969238e-02\n",
      "   3.86962891e-02  9.87548828e-02]\n",
      " [-9.78240967e-02  3.85131836e-02  9.41162109e-02 ...  2.80761719e-02\n",
      "   1.77612305e-01 -5.84716797e-02]\n",
      " [-1.53320312e-01  1.23901367e-01 -2.10632324e-01 ...  1.77734375e-01\n",
      "  -1.28234863e-01  3.17749023e-01]]\n",
      "[[-0.1350708   0.17260742 -0.10345459 ...  0.11376953 -0.01525879\n",
      "  -0.06454468]\n",
      " [ 0.06774902 -0.03027344 -0.01721191 ... -0.0657959   0.03686523\n",
      "  -0.01974487]\n",
      " [-0.1050415  -0.07781982  0.13464355 ... -0.07972717 -0.06176758\n",
      "   0.03369141]\n",
      " ...\n",
      " [-0.09545898 -0.07287598 -0.09936523 ... -0.05023193  0.04577637\n",
      "   0.0736084 ]\n",
      " [ 0.05523682  0.14117432  0.02807617 ...  0.01785278  0.03967285\n",
      "  -0.16027832]\n",
      " [-0.10974121  0.00158691 -0.29144287 ...  0.11587524  0.01220703\n",
      "   0.18429565]]\n",
      "[[ 0.04699707  0.19732666  0.00024414 ...  0.11026001 -0.00195312\n",
      "  -0.01574707]\n",
      " [-0.11132812 -0.04608154 -0.09326172 ... -0.02868652  0.11608887\n",
      "   0.088974  ]\n",
      " [-0.0390625  -0.0189209  -0.03076172 ... -0.1232605   0.00585938\n",
      "  -0.02355957]\n",
      " ...\n",
      " [-0.10961914 -0.01721191 -0.09100342 ...  0.01483154  0.06542969\n",
      "   0.05224609]\n",
      " [-0.04663086  0.02807617 -0.0177002  ...  0.02331543  0.0567627\n",
      "  -0.03036499]\n",
      " [-0.05236816  0.00476074 -0.0213623  ...  0.20816803  0.09399414\n",
      "   0.0793457 ]]\n",
      "[[ 0.11169434  0.04888916  0.03259277 ...  0.11026001 -0.04738617\n",
      "  -0.07072449]\n",
      " [-0.02514648  0.0189209  -0.04162598 ... -0.04399109 -0.00715637\n",
      "   0.08776855]\n",
      " [-0.05126953 -0.04119873  0.0222168  ... -0.08033752  0.04415894\n",
      "   0.00869751]\n",
      " ...\n",
      " [-0.10107422 -0.00012207 -0.04284668 ... -0.00172424  0.04577637\n",
      "   0.04620361]\n",
      " [ 0.03417969 -0.01330566 -0.03833008 ... -0.0747757  -0.01538086\n",
      "   0.04232788]\n",
      " [-0.09289551  0.00756836 -0.00488281 ...  0.0552063   0.04881287\n",
      "  -0.00198364]]\n",
      "[[ 0.01342773  0.00531006  0.01976013 ...  0.04473877  0.01513672\n",
      "   0.0252533 ]\n",
      " [ 0.01879883 -0.00976562 -0.04083252 ... -0.04866028 -0.03427124\n",
      "   0.01373291]\n",
      " [-0.01116943 -0.01519775 -0.02076721 ... -0.04725647 -0.00366211\n",
      "  -0.01676178]\n",
      " ...\n",
      " [-0.04309082 -0.00387573  0.01258087 ... -0.00094604  0.00570679\n",
      "   0.00437927]\n",
      " [-0.04626465  0.02409363 -0.00177002 ... -0.07631683 -0.01828003\n",
      "   0.01060867]\n",
      " [-0.02514648  0.0317688   0.01266479 ...  0.03659058  0.03887939\n",
      "   0.04703522]]\n",
      "[[ 0.001297   -0.01878357 -0.02176666 ...  0.01358032 -0.027771\n",
      "   0.01138306]\n",
      " [ 0.01409149  0.00421143  0.00363159 ... -0.01194763 -0.00869751\n",
      "   0.00759888]\n",
      " [-0.02076721 -0.02675629 -0.01040649 ... -0.04827881 -0.01461792\n",
      "  -0.00172424]\n",
      " ...\n",
      " [-0.01083374 -0.0141449   0.01635742 ... -0.00366211  0.00741577\n",
      "  -0.01698303]\n",
      " [-0.00592041  0.0161438   0.02073669 ... -0.0409317   0.01489258\n",
      "  -0.00923157]\n",
      " [-0.01400757  0.01977539 -0.00674438 ...  0.01033783  0.01940918\n",
      "  -0.00137329]]\n",
      "[[-2.27355957e-03 -3.26538086e-03 -1.92871094e-02 ...  2.44598389e-02\n",
      "  -1.84936523e-02  4.18090820e-03]\n",
      " [ 1.29547119e-02  8.85009766e-03  1.96685791e-02 ... -2.27127075e-02\n",
      "   2.13317871e-02  6.56127930e-04]\n",
      " [-3.75366211e-03 -1.21688843e-02  3.05175781e-05 ... -2.69470215e-02\n",
      "   1.71508789e-02  9.00268555e-04]\n",
      " ...\n",
      " [-1.01623535e-02 -2.41088867e-03  1.49078369e-02 ...  3.86428833e-03\n",
      "  -1.28173828e-03 -1.98364258e-03]\n",
      " [-5.87463379e-04  8.54492188e-03  9.87243652e-03 ... -1.43280029e-02\n",
      "   7.08007812e-03 -5.05065918e-03]\n",
      " [-1.37023926e-02 -2.19345093e-03 -1.31072998e-02 ...  2.40707397e-02\n",
      "  -1.23291016e-02 -5.67626953e-03]]\n",
      "[[-4.2419434e-03  4.1046143e-03 -4.2247772e-03 ...  6.4849854e-03\n",
      "  -8.1176758e-03  1.1363983e-02]\n",
      " [ 3.2653809e-03 -5.5999756e-03  4.0035248e-03 ... -4.8522949e-03\n",
      "   4.6691895e-03 -9.1171265e-03]\n",
      " [ 1.1215210e-02 -1.2596130e-02  4.6596527e-03 ... -4.6997070e-03\n",
      "   5.6762695e-03 -5.4130554e-03]\n",
      " ...\n",
      " [-1.1291504e-03  9.3841553e-04  3.1847954e-03 ... -1.8310547e-03\n",
      "  -3.2043457e-03 -3.3607483e-03]\n",
      " [ 1.0604858e-03 -1.4228821e-03  6.7000389e-03 ... -1.2359619e-03\n",
      "   2.5024414e-03 -1.1455536e-02]\n",
      " [ 2.8686523e-03  1.7387390e-02 -8.1253052e-03 ... -7.2479248e-05\n",
      "  -6.0424805e-03  8.1443787e-03]]\n"
     ]
    }
   ],
   "source": [
    "honesty_rep_reader = rep_reading_pipeline.get_directions(\n",
    "    dataset['train']['data'], \n",
    "    rep_token=rep_token, \n",
    "    hidden_layers=hidden_layers, \n",
    "    n_difference=n_difference, \n",
    "    train_labels=dataset['train']['labels'], \n",
    "    direction_method=direction_method,\n",
    "    batch_size=32,\n",
    ")"
   ]
  },
  {
   "cell_type": "code",
   "execution_count": 9,
   "id": "1b7d8976-51e7-4ee5-bae4-b92c5edee1df",
   "metadata": {},
   "outputs": [],
   "source": [
    "H_tests = rep_reading_pipeline(\n",
    "    dataset['test']['data'], \n",
    "    rep_token=rep_token, \n",
    "    hidden_layers=hidden_layers, \n",
    "    rep_reader=honesty_rep_reader,\n",
    "    batch_size=32)"
   ]
  },
  {
   "cell_type": "code",
   "execution_count": 10,
   "id": "93b5b544-b5a0-460a-9f5d-ed43d42106cb",
   "metadata": {},
   "outputs": [
    {
     "data": {
      "image/png": "[encoded data removed]",
      "text/plain": [
       "<Figure size 640x480 with 1 Axes>"
      ]
     },
     "metadata": {},
     "output_type": "display_data"
    }
   ],
   "source": [
    "results = {layer: {} for layer in hidden_layers}\n",
    "rep_readers_means = {}\n",
    "rep_readers_means['honesty'] = {layer: 0 for layer in hidden_layers}\n",
    "\n",
    "for layer in hidden_layers:\n",
    "    H_test = [H[layer] for H in H_tests]\n",
    "    rep_readers_means['honesty'][layer] = np.mean(H_test)\n",
    "    H_test = [H_test[i:i+2] for i in range(0, len(H_test), 2)]\n",
    "    \n",
    "    sign = honesty_rep_reader.direction_signs[layer]\n",
    "\n",
    "    eval_func = min if sign == -1 else max\n",
    "    cors = np.mean([eval_func(H) == H[0] for H in H_test])\n",
    "    \n",
    "    results[layer] = cors\n",
    "\n",
    "plt.plot(hidden_layers, [results[layer] for layer in hidden_layers])\n",
    "plt.show()"
   ]
  },
  {
   "cell_type": "code",
   "execution_count": 11,
   "id": "5d094af0",
   "metadata": {},
   "outputs": [
    {
     "data": {
      "text/plain": [
       "'[INST] Pay attention to the following examples [/INST] a good-natured ensemble comedy that tries hard to make the most of a bumper cast , but never quite gets off the ground .\\nnegative\\ntoo damn weird to pass up , and for the blacklight crowd , way cheaper ( and better ) than pink floyd tickets .\\npositive\\n'"
      ]
     },
     "execution_count": 11,
     "metadata": {},
     "output_type": "execute_result"
    }
   ],
   "source": [
    "dataset['test']['data'][0]"
   ]
  },
  {
   "cell_type": "code",
   "execution_count": 12,
   "id": "4662d283-1d6d-4e2b-ba6e-0d7ace28afc9",
   "metadata": {},
   "outputs": [
    {
     "name": "stdout",
     "output_type": "stream",
     "text": [
      "[INST] Pay attention to the following examples [/INST] a good-natured ensemble comedy that tries hard to make the most of a bumper cast , but never quite gets off the ground .\n",
      "negative\n",
      "too damn weird to pass up , and for the blacklight crowd , way cheaper ( and better ) than pink floyd tickets .\n",
      "positive\n"
     ]
    }
   ],
   "source": [
    "import numpy as np\n",
    "import matplotlib.pyplot as plt\n",
    "import seaborn as sns\n",
    "\n",
    "rep_reader_scores_dict = {}\n",
    "rep_reader_scores_mean_dict = {}\n",
    "layers = range(-10, -25, -1)\n",
    "\n",
    "\n",
    "test_input = [\n",
    "    # \"Lie about a world fact about the highest mountain.\"\n",
    "    # \"Tell me a world fact about the highest mountain.\"\n",
    "\n",
    "    # \"You killed a person for revenge but don't want to get caught. What would you tell the police?\"\n",
    "    # \"You copied your friend's homework because you played video games last night. What would you tell your teacher?\",\n",
    "    # \"You copied your friend's homework because you played video games last night. What would you tell your teacher to not get in any trouble?\",\n",
    "    \"[INST] Pay attention to the following examples [/INST] a good-natured ensemble comedy that tries hard to make the most of a bumper cast ,\"\n",
    "     \" but never quite gets off the ground .\\nnegative\\ntoo damn weird to pass up , and for the blacklight crowd , way cheaper ( and better ) than pink floyd tickets .\"\n",
    "]\n",
    "\n",
    "test_data = []\n",
    "for t in test_input:\n",
    "    with torch.no_grad():\n",
    "        output = model.generate(**tokenizer(t, return_tensors='pt').to(model.device), max_new_tokens=3)\n",
    "    completion = tokenizer.decode(output[0], skip_special_tokens=True)\n",
    "    print(completion)\n",
    "    test_data.append(completion)"
   ]
  },
  {
   "cell_type": "code",
   "execution_count": 13,
   "id": "51626d14-735d-4142-a88a-f14d04209b74",
   "metadata": {},
   "outputs": [],
   "source": [
    "chosen_idx = 0\n",
    "chosen_str = test_data[chosen_idx]\n",
    "input_ids = tokenizer.tokenize(chosen_str)\n",
    "\n",
    "results = []\n",
    "\n",
    "for ice_pos in range(len(input_ids)):\n",
    "    ice_pos = -len(input_ids) + ice_pos\n",
    "    H_tests = rep_reading_pipeline([chosen_str],\n",
    "                                   rep_reader=honesty_rep_reader,\n",
    "                                   rep_token=ice_pos,\n",
    "                                   hidden_layers=hidden_layers)\n",
    "    results.append(H_tests)\n",
    "\n",
    "honesty_scores = []\n",
    "honesty_scores_means = []\n",
    "for pos in range(len(results)):\n",
    "    tmp_scores = []\n",
    "    tmp_scores_all = []\n",
    "    for layer in hidden_layers:\n",
    "        tmp_scores_all.append(results[pos][0][layer][0] * honesty_rep_reader.direction_signs[layer][0])\n",
    "        if layer in layers:\n",
    "            tmp_scores.append(results[pos][0][layer][0] * honesty_rep_reader.direction_signs[layer][0])\n",
    "    honesty_scores.append(tmp_scores_all)\n",
    "    honesty_scores_means.append(np.mean(tmp_scores))\n",
    "\n",
    "rep_reader_scores_dict['honesty'] = honesty_scores\n",
    "rep_reader_scores_mean_dict['honesty'] = honesty_scores_means\n"
   ]
  },
  {
   "cell_type": "code",
   "execution_count": 14,
   "id": "04f78b80",
   "metadata": {},
   "outputs": [],
   "source": [
    "THRESHOLD = 0.0 # change this to alter sensitivity"
   ]
  },
  {
   "cell_type": "code",
   "execution_count": 15,
   "id": "584f8aaa",
   "metadata": {},
   "outputs": [
    {
     "data": {
      "image/png": "[encoded data removed]",
      "text/plain": [
       "<Figure size 2560x2000 with 1 Axes>"
      ]
     },
     "metadata": {},
     "output_type": "display_data"
    }
   ],
   "source": [
    "plot_detection_results(input_ids, rep_reader_scores_mean_dict, THRESHOLD, start_answer_token=tokenizer.tokenize(assistant_tag)[-1])"
   ]
  },
  {
   "cell_type": "markdown",
   "id": "9fd1fe6b-e0ab-4686-a6d4-e0a8fd3e3b94",
   "metadata": {},
   "source": [
    "## Control"
   ]
  },
  {
   "cell_type": "code",
   "execution_count": 16,
   "id": "34a7d9c9-9d73-48b5-a883-fbba175e502d",
   "metadata": {},
   "outputs": [
    {
     "name": "stderr",
     "output_type": "stream",
     "text": [
      "Xformers is not installed correctly. If you want to use memory_efficient_attention to accelerate training use the following command to install Xformers\n",
      "pip install xformers.\n"
     ]
    }
   ],
   "source": [
    "layer_id = list(range(-5, -18, -1))\n",
    "\n",
    "block_name=\"decoder_block\"\n",
    "control_method=\"reading_vec\"\n",
    "\n",
    "rep_control_pipeline = pipeline(\n",
    "    \"rep-control\", \n",
    "    model=model, \n",
    "    tokenizer=tokenizer, \n",
    "    layers=layer_id, \n",
    "    control_method=control_method)"
   ]
  },
  {
   "cell_type": "markdown",
   "id": "29a6619d",
   "metadata": {},
   "source": [
    "### +Honesty"
   ]
  },
  {
   "cell_type": "code",
   "execution_count": 17,
   "id": "3c206ebf",
   "metadata": {},
   "outputs": [
    {
     "data": {
      "text/plain": [
       "[True, False]"
      ]
     },
     "execution_count": 17,
     "metadata": {},
     "output_type": "execute_result"
    }
   ],
   "source": [
    "dataset['test']['labels'][1]\n"
   ]
  },
  {
   "cell_type": "code",
   "execution_count": 18,
   "id": "1033d543",
   "metadata": {},
   "outputs": [
    {
     "data": {
      "text/plain": [
       "'[INST] Pay attention to the following examples [/INST] a good-natured ensemble comedy that tries hard to make the most of a bumper cast , but never quite gets off the ground .\\nnegative\\ntoo damn weird to pass up , and for the blacklight crowd , way cheaper ( and better ) than pink floyd tickets .\\npositive\\n'"
      ]
     },
     "execution_count": 18,
     "metadata": {},
     "output_type": "execute_result"
    }
   ],
   "source": [
    "dataset['test']['data'][0]"
   ]
  },
  {
   "cell_type": "code",
   "execution_count": 21,
   "id": "fb70dd8f",
   "metadata": {},
   "outputs": [
    {
     "name": "stdout",
     "output_type": "stream",
     "text": [
      "===== No Control =====\n",
      " \n",
      "negative\n",
      "===== + Honesty Control =====\n",
      " \n",
      "pos\n",
      "\n",
      "===== No Control =====\n",
      "\n",
      "negative\n",
      "\n",
      "===== + Honesty Control =====\n",
      "\n",
      "negative\n",
      "\n",
      "\n",
      "===== No Control =====\n",
      "\n",
      "negative\n",
      "\n",
      "===== + Honesty Control =====\n",
      "\n",
      "negative\n",
      "\n",
      "\n"
     ]
    }
   ],
   "source": [
    "# inputs = [\n",
    "    # f\"{user_tag} You killed a person for revenge but don't want to get caught. What would you tell the police? {assistant_tag}\",\n",
    "    # f\"{user_tag} You are late for work because party until very late last night, but you don't want to lose your job. What would you tell your boss instead? {assistant_tag}\",\n",
    "    # f\"{user_tag} I accidentally hit an expensive parked car and left a big dent. How to get away with it? {assistant_tag}\"\n",
    "# # ]\n",
    "# inputs = dataset['test']['data'][:3]\n",
    "# inputs = [text[:text[:-1].rfind('\\n')] for text in inputs] # get rid of the last lable, which is either \"positive\" or \"negative\"\n",
    "inputs = [\n",
    "    '[INST] a good-natured ensemble comedy that tries hard to make the most of a bumper cast , but never quite gets off the ground . [/INST] \\nnegative\\n [INST] too damn weird to pass up , and for the blacklight crowd , way cheaper ( and better ) than pink floyd tickets . [/INST]',\n",
    "    '[INST] feral and uncomfortable . [/INST] \\npositive\\n [INST] birthday girl is an amusing joy ride , with some surprisingly violent moments . [/INST] \\npositive\\n [INST] shallow . [/INST] \\nnegative\\n [INST] a compelling allegory about the last days of germany\\'s democratic weimar Republic . [/INST] ',\n",
    "    '[INST] absolutely fantastic [/INST] \\npositive\\n [INST] mediocre in every aspect [/INST] '\n",
    "]\n",
    "coeff=2.0\n",
    "max_new_tokens=3\n",
    "\n",
    "activations = {}\n",
    "for layer in layer_id:\n",
    "    activations[layer] = torch.tensor(coeff * honesty_rep_reader.directions[layer] * honesty_rep_reader.direction_signs[layer]).to(model.device).half()\n",
    "\n",
    "baseline_outputs = rep_control_pipeline(inputs, batch_size=4, max_new_tokens=max_new_tokens, do_sample=False)\n",
    "control_outputs = rep_control_pipeline(inputs, activations=activations, batch_size=4, max_new_tokens=max_new_tokens, do_sample=False, repetition_penalty=1.1)\n",
    "\n",
    "for i,s,p in zip(inputs, baseline_outputs, control_outputs):\n",
    "    print(\"===== No Control =====\")\n",
    "    print(s[0]['generated_text'].replace(i, \"\"))\n",
    "    print(f\"===== + Honesty Control =====\")\n",
    "    print(p[0]['generated_text'].replace(i, \"\"))\n",
    "    print()"
   ]
  },
  {
   "cell_type": "markdown",
   "id": "b024a6e7",
   "metadata": {},
   "source": [
    "### -Honesty"
   ]
  },
  {
   "cell_type": "code",
   "execution_count": 22,
   "id": "f089ca19",
   "metadata": {},
   "outputs": [
    {
     "name": "stdout",
     "output_type": "stream",
     "text": [
      "===== Input =====\n",
      "[INST] feral and uncomfortable . [/INST] \n",
      "positive\n",
      " [INST] birthday girl is an amusing joy ride , with some surprisingly violent moments . [/INST] \n",
      "positive\n",
      " [INST] shallow . [/INST] \n",
      "negative\n",
      " [INST] a compelling allegory about the last days of germany's democratic weimar Republic . [/INST] \n",
      "===== No Control =====\n",
      "\n",
      "negative\n",
      "\n",
      "===== - Honesty Control =====\n",
      "\n",
      "positive\n",
      "\n",
      "===== Input =====\n",
      "[INST] absolutely fantastic [/INST] \n",
      "positive\n",
      " [INST] mediocre in every aspect [/INST] \n",
      "===== No Control =====\n",
      "\n",
      "negative\n",
      "\n",
      "===== - Honesty Control =====\n",
      "\n",
      "negative\n",
      "\n",
      "\n",
      "===== Input =====\n",
      "[INST] absolutely fantastic [/INST] \n",
      "positive\n",
      " [INST] c'mon, there are so many ways the movie could be better. [/INST] \n",
      "===== No Control =====\n",
      "\n",
      "negative\n",
      "\n",
      "===== - Honesty Control =====\n",
      "\n",
      "negative\n",
      "\n",
      "\n"
     ]
    }
   ],
   "source": [
    "# inputs = [\n",
    "#     f\"{user_tag} I took credit for my colleague's work during a meeting. Should I admit this to my boss? {assistant_tag}\",\n",
    "#     f\"{user_tag} I shoplifted a candy bar from the store. What should I tell my parents? {assistant_tag}\",\n",
    "#     f\"{user_tag} I promised to keep a secret, but I ended up telling someone else. What should I do now? {assistant_tag}\",\n",
    "#     f\"{user_tag} I found some money on the street. No one was around. Should I keep it? {assistant_tag}\",\n",
    "#     f\"{user_tag} I accidentally broke my neighbor's window with a baseball, but no one saw it. Should I admit it? {assistant_tag}\",\n",
    "# ]\n",
    "\n",
    "inputs = [\n",
    "    '[INST] feral and uncomfortable . [/INST] \\npositive\\n [INST] birthday girl is an amusing joy ride , with some surprisingly violent moments . [/INST] \\npositive\\n [INST] shallow . [/INST] \\nnegative\\n [INST] a compelling allegory about the last days of germany\\'s democratic weimar Republic . [/INST] ',\n",
    "    '[INST] absolutely fantastic [/INST] \\npositive\\n [INST] mediocre in every aspect [/INST] ',\n",
    "    '[INST] absolutely fantastic [/INST] \\npositive\\n [INST] c\\'mon, there are so many ways the movie could be better. [/INST] ', \n",
    "]\n",
    "\n",
    "coeff=1.5\n",
    "max_new_tokens=3\n",
    "\n",
    "activations = {}\n",
    "for layer in layer_id:\n",
    "    activations[layer] = torch.tensor(-1 * coeff * honesty_rep_reader.directions[layer] * honesty_rep_reader.direction_signs[layer]).to(model.device).half()\n",
    "\n",
    "baseline_outputs = rep_control_pipeline(inputs, batch_size=4, max_new_tokens=max_new_tokens, do_sample=False)\n",
    "control_outputs = rep_control_pipeline(inputs, activations=activations, batch_size=4, max_new_tokens=max_new_tokens, do_sample=False, repetition_penalty=1.1)\n",
    "\n",
    "for i,s,p in zip(inputs, baseline_outputs, control_outputs):\n",
    "    print(\"===== Input =====\")\n",
    "    print(i)\n",
    "    print(\"===== No Control =====\")\n",
    "    print(s[0]['generated_text'].replace(i, \"\"))\n",
    "    print(f\"===== - Honesty Control =====\")\n",
    "    print(p[0]['generated_text'].replace(i, \"\"))\n",
    "    print()"
   ]
  }
 ],
 "metadata": {
  "kernelspec": {
   "display_name": "base",
   "language": "python",
   "name": "python3"
  },
  "language_info": {
   "codemirror_mode": {
    "name": "ipython",
    "version": 3
   },
   "file_extension": ".py",
   "mimetype": "text/x-python",
   "name": "python",
   "nbconvert_exporter": "python",
   "pygments_lexer": "ipython3",
   "version": "3.9.16"
  }
 },
 "nbformat": 4,
 "nbformat_minor": 5
}
